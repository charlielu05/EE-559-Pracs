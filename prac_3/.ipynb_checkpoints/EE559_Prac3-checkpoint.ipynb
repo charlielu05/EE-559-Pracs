{
 "cells": [
  {
   "cell_type": "code",
   "execution_count": 1,
   "metadata": {},
   "outputs": [],
   "source": [
    "import torch"
   ]
  },
  {
   "cell_type": "markdown",
   "metadata": {},
   "source": [
    "Write the two functions <br>\n",
    "def sigma(x) <br>\n",
    "def dsigma(x) <br> \n",
    "that take as input a ﬂoat tensor and returns a tensor of same size, obtained by applying component-wise respectively tanh, and the ﬁrst derivative of tanh. <br>\n",
    "Hint: The functions should have no python loop, and use in particular torch.tanh , torch.exp , torch.mul , and torch.pow . My versions are 34 and 62 character long. <br>\n"
   ]
  },
  {
   "cell_type": "code",
   "execution_count": 10,
   "metadata": {},
   "outputs": [],
   "source": [
    "def sigma(x):\n",
    "    return x.tanh()"
   ]
  },
  {
   "cell_type": "code",
   "execution_count": 12,
   "metadata": {},
   "outputs": [],
   "source": [
    "def dsigma(x):\n",
    "    return 1 - torch.pow(sigma(x), 2)"
   ]
  },
  {
   "cell_type": "code",
   "execution_count": 4,
   "metadata": {},
   "outputs": [],
   "source": [
    "test_tensor = torch.ones(10)"
   ]
  },
  {
   "cell_type": "code",
   "execution_count": 16,
   "metadata": {},
   "outputs": [
    {
     "data": {
      "text/plain": [
       "\n",
       " 0.4200\n",
       " 0.4200\n",
       " 0.4200\n",
       " 0.4200\n",
       " 0.4200\n",
       " 0.4200\n",
       " 0.4200\n",
       " 0.4200\n",
       " 0.4200\n",
       " 0.4200\n",
       "[torch.FloatTensor of size 10]"
      ]
     },
     "execution_count": 16,
     "metadata": {},
     "output_type": "execute_result"
    }
   ],
   "source": [
    "dsigma(test_tensor)"
   ]
  },
  {
   "cell_type": "markdown",
   "metadata": {},
   "source": [
    "---"
   ]
  },
  {
   "cell_type": "markdown",
   "metadata": {},
   "source": [
    "# 2 Loss\n",
    "Write the two functions <br>\n",
    "\n",
    "def loss(v, t) <br>\n",
    "def dloss(v, t) <br>\n",
    "\n",
    "that take as input two ﬂoat tensors of same dimensions with v the predicted tensor and t the target one, and return respectively abs(v-t)^2, and a tensor of same size equal to the gradient of that quantity as a function of v. <br>\n",
    "\n",
    "Hint: The functions should have no python loop, and use in particular torch.sum , torch.pow . My versions are 48 and 40 character long.\n"
   ]
  },
  {
   "cell_type": "code",
   "execution_count": 21,
   "metadata": {},
   "outputs": [],
   "source": [
    "v = torch.ones(10).fill_(10)\n",
    "t = torch.ones(10).fill_(5)"
   ]
  },
  {
   "cell_type": "code",
   "execution_count": 29,
   "metadata": {},
   "outputs": [],
   "source": [
    "def loss(v, t):\n",
    "    return torch.pow((v-t), 2).sum()\n",
    "    "
   ]
  },
  {
   "cell_type": "code",
   "execution_count": 31,
   "metadata": {},
   "outputs": [],
   "source": [
    "def dloss(v, t):\n",
    "    return 2 * (v - t)"
   ]
  },
  {
   "cell_type": "code",
   "execution_count": null,
   "metadata": {},
   "outputs": [],
   "source": []
  }
 ],
 "metadata": {
  "kernelspec": {
   "display_name": "Python 3",
   "language": "python",
   "name": "python3"
  },
  "language_info": {
   "codemirror_mode": {
    "name": "ipython",
    "version": 3
   },
   "file_extension": ".py",
   "mimetype": "text/x-python",
   "name": "python",
   "nbconvert_exporter": "python",
   "pygments_lexer": "ipython3",
   "version": "3.6.6"
  }
 },
 "nbformat": 4,
 "nbformat_minor": 2
}
